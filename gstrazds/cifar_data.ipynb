{
 "cells": [
  {
   "cell_type": "markdown",
   "metadata": {},
   "source": [
    "Code in this notebook is based on <https://github.com/MBMS80/Writing-Cifar10-dataset-to-image-files-as-.tif-or-.jpg->  \n",
    "( original author:\n",
    "[Mehdi Maboudi](https://www.tu-braunschweig.de/igp/mitarbeiter/maboudi/), September 2019,\n",
    " Technical University of Braunschweig )\n",
    " \n",
    "Implements:\n",
    "- Writing Cifar10 dataset to image files as '.tif' or '.jpg'  \n",
    "- Reading image files into numpy arrays compatible with the standard Cifar10 dataset"
   ]
  },
  {
   "cell_type": "code",
   "execution_count": 1,
   "metadata": {},
   "outputs": [],
   "source": [
    "import os\n",
    "import glob\n",
    "import pickle\n",
    "from pathlib import Path"
   ]
  },
  {
   "cell_type": "code",
   "execution_count": 2,
   "metadata": {},
   "outputs": [
    {
     "name": "stdout",
     "output_type": "stream",
     "text": [
      "Requirement already satisfied: numpy in /Users/gstrazds/.conda/envs/dlcourse/lib/python3.10/site-packages (1.26.3)\n",
      "Requirement already satisfied: matplotlib in /Users/gstrazds/.conda/envs/dlcourse/lib/python3.10/site-packages (3.8.2)\n",
      "Requirement already satisfied: contourpy>=1.0.1 in /Users/gstrazds/.conda/envs/dlcourse/lib/python3.10/site-packages (from matplotlib) (1.2.0)\n",
      "Requirement already satisfied: cycler>=0.10 in /Users/gstrazds/.conda/envs/dlcourse/lib/python3.10/site-packages (from matplotlib) (0.12.1)\n",
      "Requirement already satisfied: fonttools>=4.22.0 in /Users/gstrazds/.conda/envs/dlcourse/lib/python3.10/site-packages (from matplotlib) (4.47.2)\n",
      "Requirement already satisfied: kiwisolver>=1.3.1 in /Users/gstrazds/.conda/envs/dlcourse/lib/python3.10/site-packages (from matplotlib) (1.4.5)\n",
      "Requirement already satisfied: numpy<2,>=1.21 in /Users/gstrazds/.conda/envs/dlcourse/lib/python3.10/site-packages (from matplotlib) (1.26.3)\n",
      "Requirement already satisfied: packaging>=20.0 in /Users/gstrazds/.conda/envs/dlcourse/lib/python3.10/site-packages (from matplotlib) (23.2)\n",
      "Requirement already satisfied: pillow>=8 in /Users/gstrazds/.conda/envs/dlcourse/lib/python3.10/site-packages (from matplotlib) (10.2.0)\n",
      "Requirement already satisfied: pyparsing>=2.3.1 in /Users/gstrazds/.conda/envs/dlcourse/lib/python3.10/site-packages (from matplotlib) (3.1.1)\n",
      "Requirement already satisfied: python-dateutil>=2.7 in /Users/gstrazds/.conda/envs/dlcourse/lib/python3.10/site-packages (from matplotlib) (2.8.2)\n",
      "Requirement already satisfied: six>=1.5 in /Users/gstrazds/.conda/envs/dlcourse/lib/python3.10/site-packages (from python-dateutil>=2.7->matplotlib) (1.16.0)\n",
      "Requirement already satisfied: tqdm in /Users/gstrazds/.conda/envs/dlcourse/lib/python3.10/site-packages (4.66.1)\n"
     ]
    }
   ],
   "source": [
    "!pip install numpy\n",
    "!pip install matplotlib\n",
    "!pip install tqdm\n",
    "import numpy as np\n",
    "import matplotlib.pyplot as plt\n",
    "from tqdm import tqdm"
   ]
  },
  {
   "cell_type": "code",
   "execution_count": 3,
   "metadata": {},
   "outputs": [
    {
     "name": "stdout",
     "output_type": "stream",
     "text": [
      "Requirement already satisfied: imageio in /Users/gstrazds/.conda/envs/dlcourse/lib/python3.10/site-packages (2.33.1)\n",
      "Requirement already satisfied: numpy in /Users/gstrazds/.conda/envs/dlcourse/lib/python3.10/site-packages (from imageio) (1.26.3)\n",
      "Requirement already satisfied: pillow>=8.3.2 in /Users/gstrazds/.conda/envs/dlcourse/lib/python3.10/site-packages (from imageio) (10.2.0)\n"
     ]
    }
   ],
   "source": [
    "!pip install imageio\n",
    "import imageio #Python library for reading and writing image data"
   ]
  },
  {
   "cell_type": "code",
   "execution_count": 4,
   "metadata": {},
   "outputs": [],
   "source": [
    "def unpickle(file):\n",
    "    with open(file, 'rb') as fo:\n",
    "        dict = pickle.load(fo, encoding='iso-8859-1')\n",
    "    return dict"
   ]
  },
  {
   "cell_type": "code",
   "execution_count": 5,
   "metadata": {},
   "outputs": [
    {
     "name": "stdout",
     "output_type": "stream",
     "text": [
      "Requirement already satisfied: torch in /Users/gstrazds/.conda/envs/dlcourse/lib/python3.10/site-packages (2.1.2)\n",
      "Requirement already satisfied: filelock in /Users/gstrazds/.conda/envs/dlcourse/lib/python3.10/site-packages (from torch) (3.13.1)\n",
      "Requirement already satisfied: typing-extensions in /Users/gstrazds/.conda/envs/dlcourse/lib/python3.10/site-packages (from torch) (4.9.0)\n",
      "Requirement already satisfied: sympy in /Users/gstrazds/.conda/envs/dlcourse/lib/python3.10/site-packages (from torch) (1.12)\n",
      "Requirement already satisfied: networkx in /Users/gstrazds/.conda/envs/dlcourse/lib/python3.10/site-packages (from torch) (3.2.1)\n",
      "Requirement already satisfied: jinja2 in /Users/gstrazds/.conda/envs/dlcourse/lib/python3.10/site-packages (from torch) (3.1.3)\n",
      "Requirement already satisfied: fsspec in /Users/gstrazds/.conda/envs/dlcourse/lib/python3.10/site-packages (from torch) (2023.12.2)\n",
      "Requirement already satisfied: MarkupSafe>=2.0 in /Users/gstrazds/.conda/envs/dlcourse/lib/python3.10/site-packages (from jinja2->torch) (2.1.4)\n",
      "Requirement already satisfied: mpmath>=0.19 in /Users/gstrazds/.conda/envs/dlcourse/lib/python3.10/site-packages (from sympy->torch) (1.3.0)\n",
      "Requirement already satisfied: torchvision in /Users/gstrazds/.conda/envs/dlcourse/lib/python3.10/site-packages (0.16.2)\n",
      "Requirement already satisfied: numpy in /Users/gstrazds/.conda/envs/dlcourse/lib/python3.10/site-packages (from torchvision) (1.26.3)\n",
      "Requirement already satisfied: requests in /Users/gstrazds/.conda/envs/dlcourse/lib/python3.10/site-packages (from torchvision) (2.31.0)\n",
      "Requirement already satisfied: torch==2.1.2 in /Users/gstrazds/.conda/envs/dlcourse/lib/python3.10/site-packages (from torchvision) (2.1.2)\n",
      "Requirement already satisfied: pillow!=8.3.*,>=5.3.0 in /Users/gstrazds/.conda/envs/dlcourse/lib/python3.10/site-packages (from torchvision) (10.2.0)\n",
      "Requirement already satisfied: filelock in /Users/gstrazds/.conda/envs/dlcourse/lib/python3.10/site-packages (from torch==2.1.2->torchvision) (3.13.1)\n",
      "Requirement already satisfied: typing-extensions in /Users/gstrazds/.conda/envs/dlcourse/lib/python3.10/site-packages (from torch==2.1.2->torchvision) (4.9.0)\n",
      "Requirement already satisfied: sympy in /Users/gstrazds/.conda/envs/dlcourse/lib/python3.10/site-packages (from torch==2.1.2->torchvision) (1.12)\n",
      "Requirement already satisfied: networkx in /Users/gstrazds/.conda/envs/dlcourse/lib/python3.10/site-packages (from torch==2.1.2->torchvision) (3.2.1)\n",
      "Requirement already satisfied: jinja2 in /Users/gstrazds/.conda/envs/dlcourse/lib/python3.10/site-packages (from torch==2.1.2->torchvision) (3.1.3)\n",
      "Requirement already satisfied: fsspec in /Users/gstrazds/.conda/envs/dlcourse/lib/python3.10/site-packages (from torch==2.1.2->torchvision) (2023.12.2)\n",
      "Requirement already satisfied: charset-normalizer<4,>=2 in /Users/gstrazds/.conda/envs/dlcourse/lib/python3.10/site-packages (from requests->torchvision) (3.3.2)\n",
      "Requirement already satisfied: idna<4,>=2.5 in /Users/gstrazds/.conda/envs/dlcourse/lib/python3.10/site-packages (from requests->torchvision) (3.6)\n",
      "Requirement already satisfied: urllib3<3,>=1.21.1 in /Users/gstrazds/.conda/envs/dlcourse/lib/python3.10/site-packages (from requests->torchvision) (2.1.0)\n",
      "Requirement already satisfied: certifi>=2017.4.17 in /Users/gstrazds/.conda/envs/dlcourse/lib/python3.10/site-packages (from requests->torchvision) (2023.11.17)\n",
      "Requirement already satisfied: MarkupSafe>=2.0 in /Users/gstrazds/.conda/envs/dlcourse/lib/python3.10/site-packages (from jinja2->torch==2.1.2->torchvision) (2.1.4)\n",
      "Requirement already satisfied: mpmath>=0.19 in /Users/gstrazds/.conda/envs/dlcourse/lib/python3.10/site-packages (from sympy->torch==2.1.2->torchvision) (1.3.0)\n",
      "Files already downloaded and verified\n",
      "Files already downloaded and verified\n"
     ]
    }
   ],
   "source": [
    "!pip install torch\n",
    "!pip install torchvision\n",
    "import torchvision\n",
    "\n",
    "cifar10 = torchvision.datasets.CIFAR10('./data', train=True, download=True)\n",
    "cifar10_val = torchvision.datasets.CIFAR10('./data', train=False, download=True)"
   ]
  },
  {
   "cell_type": "code",
   "execution_count": null,
   "metadata": {},
   "outputs": [],
   "source": []
  },
  {
   "cell_type": "code",
   "execution_count": 6,
   "metadata": {},
   "outputs": [
    {
     "data": {
      "text/plain": [
       "Dataset CIFAR10\n",
       "    Number of datapoints: 50000\n",
       "    Root location: ./data\n",
       "    Split: Train"
      ]
     },
     "execution_count": 6,
     "metadata": {},
     "output_type": "execute_result"
    }
   ],
   "source": [
    "cifar10"
   ]
  },
  {
   "cell_type": "markdown",
   "metadata": {},
   "source": [
    "The [CIFAR-10 dataset](https://www.cs.toronto.edu/~kriz/cifar.html) consists of 60000 32x32 colour images in 10 classes, with 6000 images per class.  \n",
    "There are 50000 training images and 10000 test images.  \n",
    "***\n",
    "__png__ images of CIFAR-10 will be saved in 10 subdirectories of each label under the __test__ and __train__ directories as below.\n"
   ]
  },
  {
   "cell_type": "code",
   "execution_count": 7,
   "metadata": {},
   "outputs": [
    {
     "data": {
      "text/plain": [
       "Dataset CIFAR10\n",
       "    Number of datapoints: 10000\n",
       "    Root location: ./data\n",
       "    Split: Test"
      ]
     },
     "execution_count": 7,
     "metadata": {},
     "output_type": "execute_result"
    }
   ],
   "source": [
    "cifar10_val"
   ]
  },
  {
   "cell_type": "markdown",
   "metadata": {},
   "source": [
    "https://pytorch.org/tutorials/beginner/basics/data_tutorial.html\n"
   ]
  },
  {
   "cell_type": "code",
   "execution_count": 8,
   "metadata": {
    "tags": []
   },
   "outputs": [],
   "source": [
    "# Load cifar10 from local files\n",
    "DATA_DIR   = './data/'\n",
    "CIFAR10_DIR   = DATA_DIR + 'cifar-10-batches-py/'"
   ]
  },
  {
   "cell_type": "code",
   "execution_count": 9,
   "metadata": {},
   "outputs": [
    {
     "name": "stdout",
     "output_type": "stream",
     "text": [
      "['./data/cifar-10-batches-py/data_batch_1', './data/cifar-10-batches-py/data_batch_2', './data/cifar-10-batches-py/data_batch_3', './data/cifar-10-batches-py/data_batch_4', './data/cifar-10-batches-py/data_batch_5']\n"
     ]
    }
   ],
   "source": [
    "training_batch_pickle_files = sorted(glob.glob(CIFAR10_DIR + 'data_batch_*'))\n",
    "test_batch_pickle_file = CIFAR10_DIR + 'test_batch'\n",
    "meta_data_pickle_file  = CIFAR10_DIR + 'batches.meta'\n",
    "\n",
    "print(training_batch_pickle_files)"
   ]
  },
  {
   "cell_type": "code",
   "execution_count": 10,
   "metadata": {},
   "outputs": [],
   "source": [
    "meta_data = unpickle(meta_data_pickle_file)\n",
    "# print(meta_data)\n",
    "# {'num_cases_per_batch': 10000,\n",
    "# 'label_names': ['airplane', 'automobile', 'bird', 'cat', 'deer', 'dog', 'frog', 'horse', 'ship', 'truck'],\n",
    "# 'num_vis': 3072}"
   ]
  },
  {
   "cell_type": "code",
   "execution_count": 11,
   "metadata": {},
   "outputs": [],
   "source": [
    "# class_names = ['airplane',\n",
    "# 'automobile',\n",
    "# 'bird',\n",
    "# 'cat',\n",
    "# 'deer',\n",
    "# 'dog',\n",
    "# 'frog',\n",
    "# 'horse',\n",
    "# 'ship',\n",
    "# 'truck']\n",
    "# nb_classes = len(class_names)"
   ]
  },
  {
   "cell_type": "code",
   "execution_count": 12,
   "metadata": {},
   "outputs": [
    {
     "name": "stdout",
     "output_type": "stream",
     "text": [
      "10 ['airplane', 'automobile', 'bird', 'cat', 'deer', 'dog', 'frog', 'horse', 'ship', 'truck']\n"
     ]
    }
   ],
   "source": [
    "class_names = meta_data['label_names']\n",
    "nb_classes = len(class_names)\n",
    "print(nb_classes, class_names)"
   ]
  },
  {
   "cell_type": "code",
   "execution_count": 13,
   "metadata": {},
   "outputs": [
    {
     "name": "stdout",
     "output_type": "stream",
     "text": [
      "training batch 1 of 5: len=10000 dict_keys(['batch_label', 'labels', 'data', 'filenames'])\n",
      "training batch 2 of 5: len=10000 dict_keys(['batch_label', 'labels', 'data', 'filenames'])\n",
      "training batch 3 of 5: len=10000 dict_keys(['batch_label', 'labels', 'data', 'filenames'])\n",
      "training batch 4 of 5: len=10000 dict_keys(['batch_label', 'labels', 'data', 'filenames'])\n",
      "training batch 5 of 5: len=10000 dict_keys(['batch_label', 'labels', 'data', 'filenames'])\n",
      "\n",
      "testing batch 1 of 1: len=10000 dict_keys(['batch_label', 'labels', 'data', 'filenames'])\n"
     ]
    }
   ],
   "source": [
    "cifar_data = []\n",
    "for pickle_file in training_batch_pickle_files:\n",
    "    data_dict = unpickle(pickle_file)\n",
    "    print(f\"{data_dict['batch_label']}: len={len(data_dict['labels'])} {data_dict.keys()}\")\n",
    "    assert(len(data_dict['labels']) == len(data_dict['data']))\n",
    "    assert(len(data_dict['labels']) == len(data_dict['filenames']))\n",
    "    cifar_data.append(data_dict)\n",
    "    \n",
    "print()\n",
    "test_batch = unpickle(test_batch_pickle_file)\n",
    "print(f\"{test_batch['batch_label']}: len={len(test_batch['labels'])} {test_batch.keys()}\")\n"
   ]
  },
  {
   "cell_type": "code",
   "execution_count": 14,
   "metadata": {},
   "outputs": [
    {
     "name": "stdout",
     "output_type": "stream",
     "text": [
      "training batch 5 of 5 10000 ['compact_car_s_001706.png', 'icebreaker_s_001689.png', 'peke_s_000545.png', 'convertible_s_000520.png', 'domestic_dog_s_000455.png']\n",
      "dtype: uint8 shape: (10000, 3072)\n",
      "[[255 252 253 ... 173 231 248]\n",
      " [127 126 127 ... 102 108 112]\n",
      " [116  64  19 ...   7   6   5]\n",
      " ...\n",
      " [ 35  40  42 ...  77  66  50]\n",
      " [189 186 185 ... 169 171 171]\n",
      " [229 236 234 ... 173 162 161]]\n"
     ]
    }
   ],
   "source": [
    "print(data_dict['batch_label'], len(data_dict['filenames']), data_dict['filenames'][0:5])\n",
    "cifar10_batch5 = cifar_data[4]['data'] \n",
    "print(\"dtype:\", cifar10_batch5.dtype, \"shape:\", cifar10_batch5.shape)\n",
    "print(cifar10_batch5)\n"
   ]
  },
  {
   "cell_type": "raw",
   "metadata": {},
   "source": [
    "# a = []\n",
    "# for i in range(0,5):\n",
    "#     r = [i*5+c for c in range(0,5)]\n",
    "#     a.append(r)\n",
    "# a = np.array(a)\n",
    "# print(\"a=\",a)\n",
    "# print(a.shape)\n",
    "# print()\n",
    "# a2 = np.stack((a, 100+a, 200+a))\n",
    "# print(a2.shape)\n",
    "# b2 = np.stack((a2, 1000+a2))\n",
    "# print(b2.shape)\n",
    "# print(b2)\n",
    "# c2 = np.reshape(b2, (2, 3, 25))\n",
    "# print()\n",
    "# print(c2.shape)\n",
    "# print(c2)\n",
    "# print()\n",
    "# c2 = np.transpose(c2, axes=(0,2,1))\n",
    "# print(c2.shape)\n",
    "# print(c2)"
   ]
  },
  {
   "cell_type": "code",
   "execution_count": 15,
   "metadata": {},
   "outputs": [],
   "source": [
    "def reshape_cifar_img_data(imgdata_batch):\n",
    "    reshaped = np.reshape(imgdata_batch, (imgdata_batch.shape[0], 3, 32, 32))\n",
    "    # print(reshaped.shape, end=' ')\n",
    "    reshaped = np.transpose(reshaped, axes=(0,2,3,1))\n",
    "    # print(\"->\", reshaped.shape)\n",
    "    return reshaped\n",
    "\n",
    "def reshape_cifar_img(imgdata):\n",
    "    reshaped = np.reshape(imgdata, (3, 32, 32))\n",
    "    # print(reshaped.shape, end=' ')\n",
    "    reshaped = np.transpose(reshaped, axes=(1,2,0))\n",
    "    # print(\"->\", reshaped.shape)\n",
    "    return reshaped\n"
   ]
  },
  {
   "cell_type": "code",
   "execution_count": 16,
   "metadata": {},
   "outputs": [
    {
     "data": {
      "image/png": "[encoded data removed]",
      "text/plain": [
       "<Figure size 700x700 with 25 Axes>"
      ]
     },
     "metadata": {},
     "output_type": "display_data"
    }
   ],
   "source": [
    "# VISUALIZE IMAGES\n",
    "\n",
    "def plotImages_categories( images, labels, n_rows=5, n_cols=4, figsize=(10, 10)):\n",
    "    fig, axes = plt.subplots(n_rows, n_cols, figsize=figsize)\n",
    "    axes = axes.flatten()\n",
    "    for i in range(len(axes)):\n",
    "        # y_train[0].astype(int)\n",
    "        axes[i].imshow(images[i])        \n",
    "        axes[i].set_xticks(())\n",
    "        axes[i].set_yticks(())\n",
    "        \n",
    "        class_index = labels[i]\n",
    "        title = class_names[class_index]\n",
    "        axes[i].set_title(title, fontdict={'family':'monospace'}, loc='left')\n",
    "    plt.tight_layout()\n",
    "    plt.show()\n",
    "\n",
    "#train_labels =np.ravel(y_train)\n",
    "reshaped_batch5 = reshape_cifar_img_data(cifar_data[4]['data'])\n",
    "# print(reshaped_batch5[0])\n",
    "plotImages_categories(images=reshaped_batch5, labels=cifar_data[4]['labels'], n_rows=5, n_cols=5, figsize=(7, 7))"
   ]
  },
  {
   "cell_type": "markdown",
   "metadata": {},
   "source": [
    "### Helper function to make directories and write images"
   ]
  },
  {
   "cell_type": "code",
   "execution_count": 17,
   "metadata": {},
   "outputs": [],
   "source": [
    "IMAGES_DIR = DATA_DIR +'Cifar10_images'\n",
    "im_format = '.png'  # '.tif'\n"
   ]
  },
  {
   "cell_type": "code",
   "execution_count": 18,
   "metadata": {},
   "outputs": [],
   "source": [
    "def make_directories(images_dir,split):\n",
    "    for dir_name in class_names:\n",
    "        dir_full_path = os.path.join(images_dir+'/'+split,dir_name)\n",
    "        if not os.path.exists(dir_full_path):\n",
    "            os.makedirs(dir_full_path)\n",
    "\n",
    "def write_images_to_split_directory(batch,split,path,write_data=False,class_counter=None):\n",
    "    if class_counter is None:\n",
    "        class_counter=np.zeros(nb_classes,dtype=int)\n",
    "\n",
    "    if write_data:\n",
    "        make_directories(path,split=split)\n",
    "    images,labels = reshape_cifar_img_data(batch['data']), batch['labels']\n",
    "    filenames = batch['filenames']\n",
    "    n_images = images.shape[0]       # number of images: one data tuple per image\n",
    "    assert n_images==len(labels)     # each image has a class label\n",
    "    assert n_images==len(filenames)  # each image has a filename\n",
    "    for i in range(n_images):\n",
    "        class_index = labels[i]\n",
    "        class_  = class_names[class_index]\n",
    "        destination_dir = os.path.join(path,split,class_)\n",
    "        filename = Path(filenames[i]).stem\n",
    "        outputname = f\"{class_counter[class_index]:04d}_{filename}{im_format}\"\n",
    "        # if i % 200 == 0:\n",
    "        #     print(destination_dir, outputname)\n",
    "        if write_data:\n",
    "            imageio.imwrite(destination_dir+'/'+outputname, images[i], im_format)\n",
    "        class_counter[class_index] +=1 \n",
    "        \n",
    "    print('classnames',class_names)\n",
    "    print('images/class = ',class_counter)\n",
    "    return class_counter\n"
   ]
  },
  {
   "cell_type": "code",
   "execution_count": 19,
   "metadata": {},
   "outputs": [],
   "source": [
    "class_counter=np.zeros(nb_classes,dtype=int)\n",
    "WRITE_DATA = True \n",
    "\n",
    "def export_cifar10_to_image_dirs(train_data, test_data, data_dir=IMAGES_DIR,\n",
    "                                 class_counter=None, write_data=WRITE_DATA):\n",
    "    split = 'train'\n",
    "    for batch in train_data:\n",
    "        # train_labels = batch['labels'] #np.ravel(y_train)\n",
    "\n",
    "        print(f\"\\nWriting {batch['batch_label']}: {len(batch['labels'])} images to {data_dir}/{split}\")\n",
    "\n",
    "        class_counter = write_images_to_split_directory(batch, split=split, path=data_dir,\n",
    "                                        write_data=write_data, class_counter=class_counter)        \n",
    "\n",
    "    split = 'test'\n",
    "    print(f\"\\nWriting {test_data['batch_label']}: {len(test_data['labels'])} images to '{split}'\")\n",
    "    test_counter = write_images_to_split_directory(test_data, split=split, path=IMAGES_DIR,\n",
    "                                        write_data=write_data, class_counter=None)        \n",
    "    print()"
   ]
  },
  {
   "cell_type": "code",
   "execution_count": 20,
   "metadata": {},
   "outputs": [
    {
     "name": "stdout",
     "output_type": "stream",
     "text": [
      "\n",
      "Writing training batch 1 of 5: 10000 images to ./data/Cifar10_images/train\n",
      "classnames ['airplane', 'automobile', 'bird', 'cat', 'deer', 'dog', 'frog', 'horse', 'ship', 'truck']\n",
      "images/class =  [1005  974 1032 1016  999  937 1030 1001 1025  981]\n",
      "\n",
      "Writing training batch 2 of 5: 10000 images to ./data/Cifar10_images/train\n",
      "classnames ['airplane', 'automobile', 'bird', 'cat', 'deer', 'dog', 'frog', 'horse', 'ship', 'truck']\n",
      "images/class =  [1989 1981 2042 2011 2009 1925 2038 2027 2012 1966]\n",
      "\n",
      "Writing training batch 3 of 5: 10000 images to ./data/Cifar10_images/train\n",
      "classnames ['airplane', 'automobile', 'bird', 'cat', 'deer', 'dog', 'frog', 'horse', 'ship', 'truck']\n",
      "images/class =  [2983 3023 3007 3008 2999 2954 3016 3042 2973 2995]\n",
      "\n",
      "Writing training batch 4 of 5: 10000 images to ./data/Cifar10_images/train\n",
      "classnames ['airplane', 'automobile', 'bird', 'cat', 'deer', 'dog', 'frog', 'horse', 'ship', 'truck']\n",
      "images/class =  [3986 3986 4048 3984 4003 3975 4020 4023 3997 3978]\n",
      "\n",
      "Writing training batch 5 of 5: 10000 images to ./data/Cifar10_images/train\n",
      "classnames ['airplane', 'automobile', 'bird', 'cat', 'deer', 'dog', 'frog', 'horse', 'ship', 'truck']\n",
      "images/class =  [5000 5000 5000 5000 5000 5000 5000 5000 5000 5000]\n",
      "\n",
      "Writing testing batch 1 of 1: 10000 images to 'test'\n",
      "classnames ['airplane', 'automobile', 'bird', 'cat', 'deer', 'dog', 'frog', 'horse', 'ship', 'truck']\n",
      "images/class =  [1000 1000 1000 1000 1000 1000 1000 1000 1000 1000]\n",
      "\n"
     ]
    }
   ],
   "source": [
    "export_cifar10_to_image_dirs(cifar_data, test_batch, data_dir=IMAGES_DIR)"
   ]
  },
  {
   "cell_type": "code",
   "execution_count": 21,
   "metadata": {},
   "outputs": [],
   "source": [
    "def reshape_imgdata(imgdata, flatten=0):\n",
    "    assert len(imgdata.shape) == 3, imgdata.shape # (Width, Height, Channels=3)\n",
    "    reshaped = np.transpose(imgdata,axes=(2,0,1))\n",
    "    if flatten == 1:\n",
    "        outshape = (imgdata.shape[2]*imgdata.shape[0]*imgdata.shape[1],) # completely flatten to 1D\n",
    "    elif flatten == 2:\n",
    "        outshape = (imgdata.shape[2],imgdata.shape[0]*imgdata.shape[1]) # C=3 channels, W x H values \n",
    "    elif flatten:\n",
    "        assert False, f\"Unsupported arg: flatten={flatten}\"\n",
    "        flatten = 0\n",
    "    if flatten:\n",
    "        reshaped = np.reshape(reshaped,outshape)\n",
    "    return reshaped"
   ]
  },
  {
   "cell_type": "code",
   "execution_count": 22,
   "metadata": {},
   "outputs": [
    {
     "name": "stdout",
     "output_type": "stream",
     "text": [
      "horse\n",
      "./data/Cifar10_images/train/horse/0000_*.png\n",
      "./data/Cifar10_images/train/horse/0000_cow_pony_s_001168.png\n",
      "(32, 32, 3)\n",
      "(3, 32, 32)\n",
      "(3072,)\n"
     ]
    },
    {
     "data": {
      "image/png": "[encoded data removed]",
      "text/plain": [
       "<Figure size 640x480 with 2 Axes>"
      ]
     },
     "metadata": {},
     "output_type": "display_data"
    },
    {
     "name": "stdout",
     "output_type": "stream",
     "text": [
      "sample min & max: 9 248\n",
      "source min & max: 9 248\n",
      "\n",
      "sample patch:\n",
      " [[35 34 44 83 84]\n",
      " [30 28 31 58 78]\n",
      " [36 33 30 54 95]\n",
      " [52 50 47 61 89]\n",
      " [95 87 74 47 43]]\n",
      "source patch:\n",
      " [[35 34 44 83 84]\n",
      " [30 28 31 58 78]\n",
      " [36 33 30 54 95]\n",
      " [52 50 47 61 89]\n",
      " [95 87 74 47 43]]\n"
     ]
    }
   ],
   "source": [
    "# Check results visually\n",
    "sample_idx = 7 # 0, 1, 3, 4, 6, 7  (assumption: first image in a given class) \n",
    "sample_class = cifar_data[0]['labels'][sample_idx]\n",
    "sample_origdata = cifar_data[0]['data'][sample_idx]\n",
    "print(class_names[sample_class])\n",
    "filepattern = f\"{IMAGES_DIR}/train/{class_names[sample_class]}/0000_*{im_format}\"\n",
    "print(filepattern)\n",
    "sample_file = glob.glob(filepattern)[0]\n",
    "print(sample_file)\n",
    "\n",
    "\n",
    "#sample  = imageio.imread('data/Cifar10_images/train/frog/0000'+im_format)\n",
    "sample  = imageio.v2.imread(sample_file)\n",
    "print(sample.shape)\n",
    "plt.subplot(1,2,1)\n",
    "plt.imshow(sample)\n",
    "reshaped_sample = reshape_imgdata(sample)\n",
    "print(reshaped_sample.shape)\n",
    "\n",
    "plt.subplot(1,2,2)\n",
    "print(sample_origdata.shape)\n",
    "sample_img = reshape_cifar_img(sample_origdata)\n",
    "plt.imshow(sample_img)\n",
    "plt.show()\n",
    "\n",
    "# Check results numerically\n",
    "print('sample min & max:',sample.min(),sample.max())\n",
    "print('source min & max:',sample_origdata.min(),sample_origdata.max())\n",
    "print('\\nsample patch:\\n',sample[0:5,0:5,1])\n",
    "print('source patch:\\n',sample_img[0:5,0:5,1])"
   ]
  },
  {
   "cell_type": "code",
   "execution_count": 23,
   "metadata": {
    "tags": []
   },
   "outputs": [
    {
     "data": {
      "text/plain": [
       "'./data/Cifar10_images'"
      ]
     },
     "execution_count": 23,
     "metadata": {},
     "output_type": "execute_result"
    }
   ],
   "source": [
    "IMAGES_DIR"
   ]
  },
  {
   "cell_type": "code",
   "execution_count": 24,
   "metadata": {},
   "outputs": [],
   "source": [
    "def read_image_data_(data_path, split, class_labels=None):\n",
    "    class_counter = None\n",
    "    class_names = []\n",
    "    # for dir_name in class_names:\n",
    "    dir_full_path = os.path.join(data_path+'/'+split)\n",
    "    if not os.path.exists(dir_full_path):\n",
    "        assert False, \"Path does not exist: \"+dir_full_path\n",
    "    img_dirs = sorted([f for f in Path(dir_full_path).iterdir() if f.is_dir()])\n",
    "    class_labels = [f.name for f in img_dirs]\n",
    "    print(\"class_labels (from directory names):\", class_labels)\n",
    "    nb_classes = len(class_labels)\n",
    "    if nb_classes > 0:\n",
    "        class_counter=np.zeros(nb_classes,dtype=int)\n",
    "\n",
    "    img_tensors = []\n",
    "    for iclass, imgdir in enumerate(img_dirs):\n",
    "        img_files = sorted(imgdir.glob('*'+im_format)) # list all images \n",
    "        img_file_names = list(map(lambda f: f.stem, img_files)) # list all images \n",
    "        print(img_file_names[0:5])\n",
    "        # imgrecs = [reshape_imgdata(imageio.v2.imread(f), flatten=0) for f in img_files]\n",
    "        imgrecs = [imageio.v2.imread(f) for f in img_files]\n",
    "        npdata = np.stack(imgrecs)  # one row per image\n",
    "        assert npdata.shape[0] == len(imgrecs) # by def of np.stack()\n",
    "        print(npdata.shape)\n",
    "        class_counter[iclass] = len(imgrecs)\n",
    "        img_tensors.append(npdata)  # python list of 2D nparray: num_recs x flattened_img_data\n",
    "        # (one list entry per class label)\n",
    "        \n",
    "    print()\n",
    "    print('classnames',class_labels)\n",
    "    print('images/class = ',class_counter)\n",
    "    return img_tensors, class_labels, class_counter"
   ]
  },
  {
   "cell_type": "code",
   "execution_count": 25,
   "metadata": {},
   "outputs": [
    {
     "name": "stdout",
     "output_type": "stream",
     "text": [
      "class_labels (from directory names): ['airplane', 'automobile', 'bird', 'cat', 'deer', 'dog', 'frog', 'horse', 'ship', 'truck']\n",
      "['0000_stealth_bomber_s_000554', '0001_twinjet_s_000663', '0002_monoplane_s_000895', '0003_dive_bomber_s_001390', '0004_attack_aircraft_s_000153']\n",
      "(5000, 32, 32, 3)\n",
      "['0000_station_wagon_s_000293', '0001_coupe_s_001735', '0002_auto_s_000609', '0003_station_waggon_s_000041', '0004_coupe_s_001944']\n",
      "(5000, 32, 32, 3)\n",
      "['0000_cassowary_s_001300', '0001_passerine_s_000343', '0002_accentor_s_000677', '0003_cassowary_s_001246', '0004_ostrich_s_001368']\n",
      "(5000, 32, 32, 3)\n",
      "['0000_tabby_s_001355', '0001_alley_cat_s_000200', '0002_tomcat_s_000772', '0003_cat_s_000081', '0004_tabby_cat_s_000983']\n",
      "(5000, 32, 32, 3)\n",
      "['0000_american_elk_s_001521', '0001_muntjac_s_001000', '0002_capreolus_capreolus_s_000051', '0003_alces_alces_s_000959', '0004_wapiti_s_000416']\n",
      "(5000, 32, 32, 3)\n",
      "['0000_chihuahua_s_000825', '0001_pekinese_s_001337', '0002_pekinese_s_001093', '0003_puppy_s_000115', '0004_mongrel_s_001571']\n",
      "(5000, 32, 32, 3)\n",
      "['0000_leptodactylus_pentadactylus_s_000004', '0001_frog_s_001671', '0002_pickerel_frog_s_000446', '0003_bufo_s_001242', '0004_toad_s_001748']\n",
      "(5000, 32, 32, 3)\n",
      "['0000_cow_pony_s_001168', '0001_arabian_s_001354', '0002_quarter_horse_s_000672', '0003_tennessee_walker_s_000486', '0004_stallion_s_000046']\n",
      "(5000, 32, 32, 3)\n",
      "['0000_sea_boat_s_001584', '0001_tank_ship_s_001229', '0002_tanker_s_001350', '0003_banana_boat_s_001324', '0004_abandoned_ship_s_000574']\n",
      "(5000, 32, 32, 3)\n",
      "['0000_camion_s_000148', '0001_tipper_truck_s_001250', '0002_camion_s_001895', '0003_trailer_truck_s_000335', '0004_dumper_s_000821']\n",
      "(5000, 32, 32, 3)\n",
      "\n",
      "classnames ['airplane', 'automobile', 'bird', 'cat', 'deer', 'dog', 'frog', 'horse', 'ship', 'truck']\n",
      "images/class =  [5000 5000 5000 5000 5000 5000 5000 5000 5000 5000]\n"
     ]
    }
   ],
   "source": [
    "data, _labels, class_counts = read_image_data_(IMAGES_DIR, 'train', class_labels=None)"
   ]
  },
  {
   "cell_type": "code",
   "execution_count": 26,
   "metadata": {},
   "outputs": [
    {
     "name": "stdout",
     "output_type": "stream",
     "text": [
      "class_labels (from directory names): ['airplane', 'automobile', 'bird', 'cat', 'deer', 'dog', 'frog', 'horse', 'ship', 'truck']\n",
      "['0000_jetliner_s_001705', '0001_plane_s_000026', '0002_stealth_fighter_s_000354', '0003_dive_bomber_s_000184', '0004_biplane_s_000278']\n",
      "(1000, 32, 32, 3)\n",
      "['0000_shooting_brake_s_000973', '0001_wagon_s_002806', '0002_automobile_s_001582', '0003_police_cruiser_s_000689', '0004_auto_s_000935']\n",
      "(1000, 32, 32, 3)\n",
      "['0000_gamecock_s_000228', '0001_struthio_camelus_s_001480', '0002_dunnock_s_000264', '0003_pipit_s_000291', '0004_bird_s_000650']\n",
      "(1000, 32, 32, 3)\n",
      "['0000_domestic_cat_s_000907', '0001_tabby_cat_s_001397', '0002_tomcat_s_002930', '0003_house_cat_s_000481', '0004_domestic_cat_s_000539']\n",
      "(1000, 32, 32, 3)\n",
      "['0000_wapiti_s_001434', '0001_elk_s_000015', '0002_deer_s_001275', '0003_barking_deer_s_000257', '0004_rangifer_tarandus_s_001009']\n",
      "(1000, 32, 32, 3)\n",
      "['0000_toy_spaniel_s_001592', '0001_puppy_s_001937', '0002_puppy_s_001691', '0003_pekingese_s_000608', '0004_puppy_s_000644']\n",
      "(1000, 32, 32, 3)\n",
      "['0000_green_frog_s_001658', '0001_crapaud_s_002124', '0002_green_frog_s_000634', '0003_rana_clamitans_s_000570', '0004_pickerel_frog_s_001165']\n",
      "(1000, 32, 32, 3)\n",
      "['0000_lippizan_s_000752', '0001_cow_pony_s_000038', '0002_tennessee_walker_s_000353', '0003_quarter_horse_s_001535', '0004_lippizan_s_000221']\n",
      "(1000, 32, 32, 3)\n",
      "['0000_hydrofoil_s_000078', '0001_sea_boat_s_001456', '0002_dredger_s_001437', '0003_boat_s_001450', '0004_pilot_boat_s_000533']\n",
      "(1000, 32, 32, 3)\n",
      "['0000_dustcart_s_000045', '0001_truck_s_000149', '0002_aerial_ladder_truck_s_001218', '0003_tipper_truck_s_000866', '0004_transporter_s_000374']\n",
      "(1000, 32, 32, 3)\n",
      "\n",
      "classnames ['airplane', 'automobile', 'bird', 'cat', 'deer', 'dog', 'frog', 'horse', 'ship', 'truck']\n",
      "images/class =  [1000 1000 1000 1000 1000 1000 1000 1000 1000 1000]\n"
     ]
    }
   ],
   "source": [
    "validation_data, _labels, class_counts = read_image_data_(IMAGES_DIR, 'test', class_labels=None)\n"
   ]
  },
  {
   "cell_type": "code",
   "execution_count": 27,
   "metadata": {},
   "outputs": [],
   "source": [
    "import torch\n",
    "from torchvision.transforms import v2\n",
    "\n",
    "transform_to_normalized_tensors=v2.Compose([\n",
    "    v2.ToImage(),\n",
    "    v2.ToDtype(torch.float32, scale=True),\n",
    "    v2.Normalize(mean=(0.4915, 0.4823, 0.4468),\n",
    "                         std=(0.2470, 0.2435, 0.2616))\n",
    "])"
   ]
  },
  {
   "cell_type": "code",
   "execution_count": 28,
   "metadata": {},
   "outputs": [],
   "source": [
    "# cifar10x = datasets.CIFAR10(\n",
    "#     data_path, train=True, download=False, transform=transform_to_normalized_tensors\n",
    "# )\n",
    "\n",
    "# cifar10x_val = datasets.CIFAR10(\n",
    "#     data_path, train=False, download=False,\n",
    "#     transform=transform_to_normalized_tensors\n",
    "# )"
   ]
  },
  {
   "cell_type": "code",
   "execution_count": 29,
   "metadata": {},
   "outputs": [
    {
     "name": "stdout",
     "output_type": "stream",
     "text": [
      "airplane\n",
      "bird\n",
      "10000 torch.Size([3, 32, 32]) torch.float32\n",
      "2000 torch.Size([3, 32, 32]) torch.float32\n"
     ]
    }
   ],
   "source": [
    "label_map = {0: 0, 1: 2}\n",
    "cifar2_class_names = ['airplane', 'bird']\n",
    "cifar2 = []\n",
    "cifar2_val = []\n",
    "for i, cifar10_class_idx in label_map.items():\n",
    "    assert cifar10_class_idx == label_map[i]\n",
    "    print(class_names[cifar10_class_idx])\n",
    "    assert class_names[cifar10_class_idx] == cifar2_class_names[i]\n",
    "    # transformed_val_data = transform_to_normalized_tensors(validation_data[cifar10_class_idx])\n",
    "    for img in data[cifar10_class_idx]:\n",
    "        cifar2.append((transform_to_normalized_tensors(img),i))\n",
    "    for img in validation_data[cifar10_class_idx]:\n",
    "        cifar2_val.append((transform_to_normalized_tensors(img),i))\n",
    "\n",
    "print(len(cifar2), cifar2[0][0].shape, cifar2[0][0].dtype)\n",
    "print(len(cifar2_val), cifar2_val[0][0].shape, cifar2_val[0][0].dtype)"
   ]
  },
  {
   "cell_type": "code",
   "execution_count": 30,
   "metadata": {},
   "outputs": [],
   "source": [
    "def load_val_data(label_map=None, class_names=class_names):\n",
    "    if label_map is None:\n",
    "        label_map = {0:0, 1:1}\n",
    "    _cifar2_valX = []\n",
    "    counts = {}\n",
    "    for i, cifar10_class_idx in label_map.items():\n",
    "        class_name = class_names[cifar10_class_idx]\n",
    "        counts[class_name] = 0\n",
    "        # print(class_name)\n",
    "        for img in validation_data[cifar10_class_idx]:\n",
    "            _cifar2_valX.append((transform_to_normalized_tensors(img),i))\n",
    "            counts[class_name] += 1\n",
    "\n",
    "    # print(len(_cifar2_valX), _cifar2_valX[0][0].shape, _cifar2_valX[0][0].dtype)\n",
    "    print(counts)\n",
    "    return _cifar2_valX"
   ]
  },
  {
   "cell_type": "code",
   "execution_count": 31,
   "metadata": {},
   "outputs": [
    {
     "name": "stdout",
     "output_type": "stream",
     "text": [
      "{'bird': 1000, 'airplane': 1000}\n"
     ]
    }
   ],
   "source": [
    "label_map = {0: 2, 1: 0}\n",
    "cifar2_valSWAPPED = load_val_data(label_map=label_map)"
   ]
  },
  {
   "cell_type": "code",
   "execution_count": 32,
   "metadata": {
    "scrolled": true
   },
   "outputs": [
    {
     "name": "stdout",
     "output_type": "stream",
     "text": [
      "Epoch: 0, Loss: 0.327553\n",
      "Epoch: 1, Loss: 0.433683\n",
      "Epoch: 2, Loss: 0.351741\n",
      "Epoch: 3, Loss: 0.450312\n",
      "Epoch: 4, Loss: 0.383749\n",
      "Epoch: 5, Loss: 0.514716\n",
      "Epoch: 6, Loss: 0.162242\n",
      "Epoch: 7, Loss: 0.420106\n",
      "Epoch: 8, Loss: 0.879580\n",
      "Epoch: 9, Loss: 0.374553\n",
      "Epoch: 10, Loss: 0.628253\n",
      "Epoch: 11, Loss: 0.495858\n",
      "Epoch: 12, Loss: 0.370941\n",
      "Epoch: 13, Loss: 0.590177\n",
      "Epoch: 14, Loss: 0.330566\n",
      "Epoch: 15, Loss: 0.361884\n",
      "Epoch: 16, Loss: 0.377845\n",
      "Epoch: 17, Loss: 0.399121\n",
      "Epoch: 18, Loss: 0.221721\n",
      "Epoch: 19, Loss: 0.274844\n",
      "Epoch: 20, Loss: 0.306525\n",
      "Epoch: 21, Loss: 0.130822\n",
      "Epoch: 22, Loss: 0.281880\n",
      "Epoch: 23, Loss: 0.160290\n",
      "Epoch: 24, Loss: 0.231278\n",
      "Epoch: 25, Loss: 0.316624\n",
      "Epoch: 26, Loss: 0.467352\n",
      "Epoch: 27, Loss: 0.311170\n",
      "Epoch: 28, Loss: 0.218247\n",
      "Epoch: 29, Loss: 0.412480\n",
      "Epoch: 30, Loss: 0.240268\n",
      "Epoch: 31, Loss: 0.344911\n",
      "Epoch: 32, Loss: 0.406650\n",
      "Epoch: 33, Loss: 0.225344\n",
      "Epoch: 34, Loss: 0.294759\n",
      "Epoch: 35, Loss: 0.161024\n",
      "Epoch: 36, Loss: 0.350893\n",
      "Epoch: 37, Loss: 0.287962\n",
      "Epoch: 38, Loss: 0.295503\n",
      "Epoch: 39, Loss: 0.247998\n",
      "Epoch: 40, Loss: 0.266094\n",
      "Epoch: 41, Loss: 0.208235\n",
      "Epoch: 42, Loss: 0.147387\n",
      "Epoch: 43, Loss: 0.125189\n",
      "Epoch: 44, Loss: 0.134959\n",
      "Epoch: 45, Loss: 0.122901\n",
      "Epoch: 46, Loss: 0.338815\n",
      "Epoch: 47, Loss: 0.078356\n",
      "Epoch: 48, Loss: 0.036755\n",
      "Epoch: 49, Loss: 0.206369\n",
      "Epoch: 50, Loss: 0.080745\n",
      "Epoch: 51, Loss: 0.129617\n",
      "Epoch: 52, Loss: 0.115129\n",
      "Epoch: 53, Loss: 0.070438\n",
      "Epoch: 54, Loss: 0.063551\n",
      "Epoch: 55, Loss: 0.083614\n",
      "Epoch: 56, Loss: 0.096536\n",
      "Epoch: 57, Loss: 0.047611\n",
      "Epoch: 58, Loss: 0.097053\n",
      "Epoch: 59, Loss: 0.085912\n",
      "Epoch: 60, Loss: 0.037532\n",
      "Epoch: 61, Loss: 0.089250\n",
      "Epoch: 62, Loss: 0.021386\n",
      "Epoch: 63, Loss: 0.065895\n",
      "Epoch: 64, Loss: 0.129941\n",
      "Epoch: 65, Loss: 0.341572\n",
      "Epoch: 66, Loss: 0.104026\n",
      "Epoch: 67, Loss: 0.077519\n",
      "Epoch: 68, Loss: 0.090713\n",
      "Epoch: 69, Loss: 0.082329\n",
      "Epoch: 70, Loss: 0.081973\n",
      "Epoch: 71, Loss: 0.105577\n",
      "Epoch: 72, Loss: 0.130386\n",
      "Epoch: 73, Loss: 0.076295\n",
      "Epoch: 74, Loss: 0.073255\n",
      "Epoch: 75, Loss: 0.064780\n",
      "Epoch: 76, Loss: 0.146827\n",
      "Epoch: 77, Loss: 0.058611\n",
      "Epoch: 78, Loss: 0.111842\n",
      "Epoch: 79, Loss: 0.051393\n",
      "Epoch: 80, Loss: 0.065351\n",
      "Epoch: 81, Loss: 0.077719\n",
      "Epoch: 82, Loss: 0.057183\n",
      "Epoch: 83, Loss: 0.022346\n",
      "Epoch: 84, Loss: 0.036746\n",
      "Epoch: 85, Loss: 0.085996\n",
      "Epoch: 86, Loss: 0.119492\n",
      "Epoch: 87, Loss: 0.056442\n",
      "Epoch: 88, Loss: 0.061753\n",
      "Epoch: 89, Loss: 0.166997\n",
      "Epoch: 90, Loss: 0.060513\n",
      "Epoch: 91, Loss: 0.029774\n",
      "Epoch: 92, Loss: 0.048774\n",
      "Epoch: 93, Loss: 0.076017\n",
      "Epoch: 94, Loss: 0.103511\n",
      "Epoch: 95, Loss: 0.034148\n",
      "Epoch: 96, Loss: 0.028192\n",
      "Epoch: 97, Loss: 0.044440\n",
      "Epoch: 98, Loss: 0.034098\n",
      "Epoch: 99, Loss: 0.079935\n"
     ]
    }
   ],
   "source": [
    "import torch\n",
    "import torch.nn as nn\n",
    "import torch.nn.functional as F\n",
    "import torch.optim as optim\n",
    "\n",
    "train_loader = torch.utils.data.DataLoader(cifar2, batch_size=64,\n",
    "                                           shuffle=True)\n",
    "class Net(nn.Module):\n",
    "    def __init__(self):\n",
    "        super(Net, self).__init__()\n",
    "        self.fc1 = nn.Linear(32*32*3, 32)\n",
    "        self.fc2 = nn.Linear(32, 2)\n",
    "        \n",
    "    def forward(self, x):\n",
    "        out = x.view(-1,32*32*3)\n",
    "        out = torch.tanh(self.fc1(out))\n",
    "        out = self.fc2(out)\n",
    "        return out\n",
    "    \n",
    "model = Net()\n",
    "\n",
    "learning_rate = 1e-2\n",
    "\n",
    "optimizer = optim.SGD(model.parameters(), lr=learning_rate)\n",
    "\n",
    "loss_fn = nn.CrossEntropyLoss()\n",
    "\n",
    "n_epochs = 100\n",
    "\n",
    "for epoch in range(n_epochs):\n",
    "    for imgs, labels in train_loader:\n",
    "        outputs = model(imgs)\n",
    "        loss = loss_fn(outputs, labels)\n",
    "                \n",
    "        optimizer.zero_grad()\n",
    "        loss.backward()\n",
    "        optimizer.step()\n",
    "\n",
    "    print(\"Epoch: %d, Loss: %f\" % (epoch, float(loss)))"
   ]
  },
  {
   "cell_type": "code",
   "execution_count": 33,
   "metadata": {},
   "outputs": [],
   "source": [
    "def eval_accuracy(model, val_loader):\n",
    "    correct = 0\n",
    "    total = 0\n",
    "    \n",
    "    with torch.no_grad():\n",
    "        for imgs, labels in val_loader:\n",
    "            outputs = model(imgs)\n",
    "            _, predicted = torch.max(outputs, dim=1)\n",
    "            total += labels.shape[0]\n",
    "            correct += int((predicted == labels).sum())\n",
    "            \n",
    "    print(f\"Accuracy (correct: {correct} / total: {total}) = {correct/total}\" )\n",
    "    return correct, total"
   ]
  },
  {
   "cell_type": "code",
   "execution_count": 34,
   "metadata": {},
   "outputs": [
    {
     "name": "stdout",
     "output_type": "stream",
     "text": [
      "Accuracy (correct: 1559 / total: 2000) = 0.7795\n"
     ]
    },
    {
     "data": {
      "text/plain": [
       "(1559, 2000)"
      ]
     },
     "execution_count": 34,
     "metadata": {},
     "output_type": "execute_result"
    }
   ],
   "source": [
    "val_loader = torch.utils.data.DataLoader(cifar2_val, batch_size=64, shuffle=False)\n",
    "eval_accuracy(model, val_loader)"
   ]
  },
  {
   "cell_type": "code",
   "execution_count": 35,
   "metadata": {},
   "outputs": [
    {
     "name": "stdout",
     "output_type": "stream",
     "text": [
      "{'bird': 1000}\n",
      "Accuracy (correct: 800 / total: 1000) = 0.8\n"
     ]
    },
    {
     "data": {
      "text/plain": [
       "(800, 1000)"
      ]
     },
     "execution_count": 35,
     "metadata": {},
     "output_type": "execute_result"
    }
   ],
   "source": [
    "label_map = {1: 2}\n",
    "cifar2_valBird = load_val_data(label_map=label_map)\n",
    "val_loader = torch.utils.data.DataLoader(cifar2_valBird, batch_size=64, shuffle=False)\n",
    "eval_accuracy(model, val_loader)\n"
   ]
  },
  {
   "cell_type": "code",
   "execution_count": 36,
   "metadata": {},
   "outputs": [
    {
     "name": "stdout",
     "output_type": "stream",
     "text": [
      "{'airplane': 1000}\n",
      "Accuracy (correct: 759 / total: 1000) = 0.759\n"
     ]
    },
    {
     "data": {
      "text/plain": [
       "(759, 1000)"
      ]
     },
     "execution_count": 36,
     "metadata": {},
     "output_type": "execute_result"
    }
   ],
   "source": [
    "label_map = {0: 0}\n",
    "cifar2_valAirplane = load_val_data(label_map=label_map)\n",
    "val_loader = torch.utils.data.DataLoader(cifar2_valAirplane, batch_size=64, shuffle=False)\n",
    "eval_accuracy(model, val_loader)\n"
   ]
  },
  {
   "cell_type": "code",
   "execution_count": 37,
   "metadata": {},
   "outputs": [
    {
     "name": "stdout",
     "output_type": "stream",
     "text": [
      "Accuracy (correct: 441 / total: 2000) = 0.2205\n"
     ]
    },
    {
     "data": {
      "text/plain": [
       "(441, 2000)"
      ]
     },
     "execution_count": 37,
     "metadata": {},
     "output_type": "execute_result"
    }
   ],
   "source": [
    "val_loader = torch.utils.data.DataLoader(cifar2_valSWAPPED, batch_size=64, shuffle=False)\n",
    "eval_accuracy(model, val_loader)\n"
   ]
  },
  {
   "cell_type": "code",
   "execution_count": 38,
   "metadata": {},
   "outputs": [
    {
     "name": "stdout",
     "output_type": "stream",
     "text": [
      "{'airplane': 1000, 'dog': 1000}\n",
      "Accuracy (correct: 1455 / total: 2000) = 0.7275\n"
     ]
    },
    {
     "data": {
      "text/plain": [
       "(1455, 2000)"
      ]
     },
     "execution_count": 38,
     "metadata": {},
     "output_type": "execute_result"
    }
   ],
   "source": [
    "label_map = {0: 0, 1: 5}\n",
    "cifar2_valAirplaneDog = load_val_data(label_map=label_map)\n",
    "val_loader = torch.utils.data.DataLoader(cifar2_valAirplaneDog, batch_size=64, shuffle=False)\n",
    "eval_accuracy(model, val_loader)\n"
   ]
  },
  {
   "cell_type": "code",
   "execution_count": 39,
   "metadata": {},
   "outputs": [
    {
     "name": "stdout",
     "output_type": "stream",
     "text": [
      "{'dog': 1000, 'bird': 1000}\n",
      "Accuracy (correct: 1104 / total: 2000) = 0.552\n"
     ]
    },
    {
     "data": {
      "text/plain": [
       "(1104, 2000)"
      ]
     },
     "execution_count": 39,
     "metadata": {},
     "output_type": "execute_result"
    }
   ],
   "source": [
    "label_map = {0: 5, 1: 2}\n",
    "cifar2_valDogBird = load_val_data(label_map=label_map)\n",
    "val_loader = torch.utils.data.DataLoader(cifar2_valDogBird, batch_size=64, shuffle=False)\n",
    "eval_accuracy(model, val_loader)\n"
   ]
  },
  {
   "cell_type": "code",
   "execution_count": 40,
   "metadata": {},
   "outputs": [
    {
     "name": "stdout",
     "output_type": "stream",
     "text": [
      "{'dog': 1000}\n",
      "Accuracy (correct: 304 / total: 1000) = 0.304\n"
     ]
    },
    {
     "data": {
      "text/plain": [
       "(304, 1000)"
      ]
     },
     "execution_count": 40,
     "metadata": {},
     "output_type": "execute_result"
    }
   ],
   "source": [
    "label_map = {0: 5} #, 1: 2}\n",
    "cifar2_valDog = load_val_data(label_map=label_map)\n",
    "val_loader = torch.utils.data.DataLoader(cifar2_valDog, batch_size=64, shuffle=False)\n",
    "eval_accuracy(model, val_loader)\n"
   ]
  },
  {
   "cell_type": "code",
   "execution_count": null,
   "metadata": {},
   "outputs": [],
   "source": []
  },
  {
   "cell_type": "code",
   "execution_count": null,
   "metadata": {},
   "outputs": [],
   "source": []
  }
 ],
 "metadata": {
  "kernelspec": {
   "display_name": "Python 3 (ipykernel)",
   "language": "python",
   "name": "python3"
  },
  "language_info": {
   "codemirror_mode": {
    "name": "ipython",
    "version": 3
   },
   "file_extension": ".py",
   "mimetype": "text/x-python",
   "name": "python",
   "nbconvert_exporter": "python",
   "pygments_lexer": "ipython3",
   "version": "3.10.13"
  }
 },
 "nbformat": 4,
 "nbformat_minor": 4
}
