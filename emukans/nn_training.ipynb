{
 "cells": [
  {
   "cell_type": "markdown",
   "source": [
    "# Neural network training"
   ],
   "metadata": {
    "collapsed": false
   },
   "id": "d542445b0323926b"
  },
  {
   "cell_type": "markdown",
   "source": [
    "## Getting started\n",
    "Install [the project](https://github.com/emukans/minDL) for neural network (nn) simulations."
   ],
   "metadata": {
    "collapsed": false
   },
   "id": "abd136a5b18f6074"
  },
  {
   "cell_type": "markdown",
   "source": [
    "## Homework setup\n",
    "Use the function below to generate input-output data for your assignment."
   ],
   "metadata": {
    "collapsed": false
   },
   "id": "8e72cacdfbc86920"
  },
  {
   "cell_type": "code",
   "execution_count": null,
   "outputs": [],
   "source": [
    "from random import random\n",
    "\n",
    "X = [[0, 0, 0],\n",
    "     [0, 0, 1],\n",
    "     [0, 1, 0],\n",
    "     [0, 1, 1],\n",
    "     [1, 0, 0],\n",
    "     [1, 0, 1],\n",
    "     [1, 1, 0],\n",
    "     [1, 1, 1]]\n",
    "y = [\n",
    "    [round(random()) for _ in range(3)] for _ in range(len(X))\n",
    "]\n",
    "print(y)"
   ],
   "metadata": {
    "collapsed": false
   },
   "id": "f43ceef4af3a63ff"
  },
  {
   "cell_type": "markdown",
   "source": [
    "The task (enough for a grade 9):\n",
    "1. Run the code above and regenerate the `X` and `y`.\n",
    "2. Copy `X` and `y` values and fill the corresponding values in the `Custom function` section of the `example.ipynb` file.\n",
    "3. Try your own shape of the nn. **!NB, the first and last values should be 3**, the values between them should be selected on your own. If the model do not converge try changing seed value or change the hidden layer size.\n",
    "4. Save the model using the following command `nn.save('model/your_LU_id.json')`\n",
    "(Optional for a grade 10)\n",
    "5. Install `manim` package and its dependencies.\n",
    "6. Run `!python animation.py -m ./model/your_LU_id.json`. (Tip: check the script and uncomment `self.add()` line and comment everything below it. This would generate an image instead of video. Adjust the margins to fit the neurons and table to the screen. When everything is visible comment `self.add()` and uncomment the code below, and rerun the script to generate video.)\n",
    "7. Submit the video to get the grade 10. !NB, all neurons and the table should be readable on the screen (Tip: hidden layer size should not supersede 6 neurons to be visible on the screen. If you use more, then scale the whole network)."
   ],
   "metadata": {
    "collapsed": false
   },
   "id": "3ddb55b8761c1cd6"
  }
 ],
 "metadata": {
  "kernelspec": {
   "display_name": "Python 3",
   "language": "python",
   "name": "python3"
  },
  "language_info": {
   "codemirror_mode": {
    "name": "ipython",
    "version": 2
   },
   "file_extension": ".py",
   "mimetype": "text/x-python",
   "name": "python",
   "nbconvert_exporter": "python",
   "pygments_lexer": "ipython2",
   "version": "2.7.6"
  }
 },
 "nbformat": 4,
 "nbformat_minor": 5
}
