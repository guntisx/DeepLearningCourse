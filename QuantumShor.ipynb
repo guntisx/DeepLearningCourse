{
  "nbformat": 4,
  "nbformat_minor": 0,
  "metadata": {
    "colab": {
      "provenance": []
    },
    "kernelspec": {
      "name": "python3",
      "display_name": "Python 3"
    },
    "language_info": {
      "name": "python"
    }
  },
  "cells": [
    {
      "cell_type": "code",
      "source": [
        "!pip install qiskit"
      ],
      "metadata": {
        "colab": {
          "base_uri": "https://localhost:8080/"
        },
        "id": "zXJW_6uFT12y",
        "outputId": "f727643d-85c6-4cdb-e44d-7f0cdb880c3d"
      },
      "execution_count": 73,
      "outputs": [
        {
          "output_type": "stream",
          "name": "stdout",
          "text": [
            "Requirement already satisfied: qiskit in /usr/local/lib/python3.10/dist-packages (0.45.1)\n",
            "Requirement already satisfied: qiskit-terra==0.45.1 in /usr/local/lib/python3.10/dist-packages (from qiskit) (0.45.1)\n",
            "Requirement already satisfied: rustworkx>=0.13.0 in /usr/local/lib/python3.10/dist-packages (from qiskit-terra==0.45.1->qiskit) (0.13.2)\n",
            "Requirement already satisfied: numpy<2,>=1.17 in /usr/local/lib/python3.10/dist-packages (from qiskit-terra==0.45.1->qiskit) (1.23.5)\n",
            "Requirement already satisfied: ply>=3.10 in /usr/local/lib/python3.10/dist-packages (from qiskit-terra==0.45.1->qiskit) (3.11)\n",
            "Requirement already satisfied: psutil>=5 in /usr/local/lib/python3.10/dist-packages (from qiskit-terra==0.45.1->qiskit) (5.9.5)\n",
            "Requirement already satisfied: scipy>=1.5 in /usr/local/lib/python3.10/dist-packages (from qiskit-terra==0.45.1->qiskit) (1.11.4)\n",
            "Requirement already satisfied: sympy>=1.3 in /usr/local/lib/python3.10/dist-packages (from qiskit-terra==0.45.1->qiskit) (1.12)\n",
            "Requirement already satisfied: dill>=0.3 in /usr/local/lib/python3.10/dist-packages (from qiskit-terra==0.45.1->qiskit) (0.3.7)\n",
            "Requirement already satisfied: python-dateutil>=2.8.0 in /usr/local/lib/python3.10/dist-packages (from qiskit-terra==0.45.1->qiskit) (2.8.2)\n",
            "Requirement already satisfied: stevedore>=3.0.0 in /usr/local/lib/python3.10/dist-packages (from qiskit-terra==0.45.1->qiskit) (5.1.0)\n",
            "Requirement already satisfied: symengine!=0.10.0,>=0.9 in /usr/local/lib/python3.10/dist-packages (from qiskit-terra==0.45.1->qiskit) (0.11.0)\n",
            "Requirement already satisfied: typing-extensions in /usr/local/lib/python3.10/dist-packages (from qiskit-terra==0.45.1->qiskit) (4.5.0)\n",
            "Requirement already satisfied: six>=1.5 in /usr/local/lib/python3.10/dist-packages (from python-dateutil>=2.8.0->qiskit-terra==0.45.1->qiskit) (1.16.0)\n",
            "Requirement already satisfied: pbr!=2.1.0,>=2.0.0 in /usr/local/lib/python3.10/dist-packages (from stevedore>=3.0.0->qiskit-terra==0.45.1->qiskit) (6.0.0)\n",
            "Requirement already satisfied: mpmath>=0.19 in /usr/local/lib/python3.10/dist-packages (from sympy>=1.3->qiskit-terra==0.45.1->qiskit) (1.3.0)\n"
          ]
        }
      ]
    },
    {
      "cell_type": "code",
      "execution_count": 74,
      "metadata": {
        "id": "ivMybkmGTf2E"
      },
      "outputs": [],
      "source": [
        "# import basics\n",
        "import numpy as np\n",
        "from random import randint\n",
        "from math import gcd\n",
        "# import Qiskit tools\n",
        "from qiskit import Aer, transpile, assemble\n",
        "from qiskit import QuantumCircuit, ClassicalRegister, QuantumRegister\n",
        "# import plot tools\n",
        "from qiskit.visualization import plot_histogram\n",
        "import matplotlib.pyplot as plt"
      ]
    },
    {
      "cell_type": "code",
      "source": [
        "# number to factor\n",
        "N = 15\n",
        "# random number a in [2,N-1] wtih gcd(a,N)=1\n",
        "n=0\n",
        "while n == 0:\n",
        "    a = randint(2, N-1)\n",
        "    if gcd(a, N) == 1:\n",
        "      n = 1\n",
        "    print(\"**:\", a, N, gcd(a, N))"
      ],
      "metadata": {
        "colab": {
          "base_uri": "https://localhost:8080/"
        },
        "id": "6CEtk7CnTu6B",
        "outputId": "51393edb-8e3c-41e2-e55d-154551c7b006"
      },
      "execution_count": 75,
      "outputs": [
        {
          "output_type": "stream",
          "name": "stdout",
          "text": [
            "**: 8 15 1\n"
          ]
        }
      ]
    },
    {
      "cell_type": "code",
      "source": [
        "# modular exponentiation gates: p = 2^0, 2^1, .... , 2^(m-1)\n",
        "def c_Uamod15(a, p):\n",
        "    U = QuantumCircuit(4)\n",
        "    # concatenate U-factors to form U^p\n",
        "    for iteration in range(p):\n",
        "        if a in [2,13]:\n",
        "            U.swap(0,1)\n",
        "            U.swap(1,2)\n",
        "            U.swap(2,3)\n",
        "        if a in [7,8]:\n",
        "            U.swap(2,3)\n",
        "            U.swap(1,2)\n",
        "            U.swap(0,1)\n",
        "        if a in [4, 11]:\n",
        "            U.swap(1,3)\n",
        "            U.swap(0,2)\n",
        "        if a in [7,11,13]:\n",
        "            for q in range(4):\n",
        "                U.x(q)\n",
        "    U = U.to_gate()\n",
        "    U.name = \"{0}^{1} mod {2}\".format(a, p, N)\n",
        "    c_U = U.control()\n",
        "    return c_U\n",
        "# inverse QFT\n",
        "def qft_dagger(n):\n",
        "    qc = QuantumCircuit(n)\n",
        "    for q in range(n//2):\n",
        "        qc.swap(q, n-q-1)\n",
        "    for j in range(n):\n",
        "        for m in range(j):\n",
        "            qc.cp(-np.pi/float(2**(j-m)), m, j)\n",
        "        qc.h(j)\n",
        "    qc.name = \"QFT†\"\n",
        "    return qc"
      ],
      "metadata": {
        "id": "sNCtmVHvTu8y"
      },
      "execution_count": 76,
      "outputs": []
    },
    {
      "cell_type": "code",
      "source": [
        "# Initialize registers and the quantum circuit\n",
        "n_work = 4 # L\n",
        "n_control = 2 * n_work + 1 # 2*L+1\n",
        "c = QuantumRegister(n_control, name='c')\n",
        "w = QuantumRegister(n_work, name='w')\n",
        "cl  = ClassicalRegister(n_control, name='cl')\n",
        "qc = QuantumCircuit(c, w, cl)\n",
        "# Initialize control qubits\n",
        "for q in range(n_control):\n",
        "  qc.h(q)\n",
        "# Populate work register with state |1>\n",
        "qc.x(n_control)\n",
        "# Controlled-U^p operations formed by concatenation\n",
        "for k in range(n_control):\n",
        "    qc.append(c_Uamod15(a, 2**k),\n",
        "             [k] + [i+n_control for i in range(n_work)])\n",
        "# Inverse-QFT\n",
        "qc.append(qft_dagger(n_control), range(n_control))\n",
        "# Measure control register\n",
        "qc.measure(c, cl)\n",
        "qc.draw(fold=-1)\n",
        "plt.savefig('circuit_{0}.jpg'.format(a))\n",
        "plt.show()"
      ],
      "metadata": {
        "colab": {
          "base_uri": "https://localhost:8080/",
          "height": 34
        },
        "id": "lWbVQm0vTu-6",
        "outputId": "f4e3524c-c712-4edd-f787-515069f189dd"
      },
      "execution_count": 77,
      "outputs": [
        {
          "output_type": "display_data",
          "data": {
            "text/plain": [
              "<Figure size 640x480 with 0 Axes>"
            ]
          },
          "metadata": {}
        }
      ]
    },
    {
      "cell_type": "code",
      "source": [
        "!pip install qiskit-aer"
      ],
      "metadata": {
        "colab": {
          "base_uri": "https://localhost:8080/"
        },
        "id": "kNrOGZ4gWQQr",
        "outputId": "f28ee14f-b417-4364-926f-0e0776cee9be"
      },
      "execution_count": 78,
      "outputs": [
        {
          "output_type": "stream",
          "name": "stdout",
          "text": [
            "Requirement already satisfied: qiskit-aer in /usr/local/lib/python3.10/dist-packages (0.13.1)\n",
            "Requirement already satisfied: qiskit>=0.44.0 in /usr/local/lib/python3.10/dist-packages (from qiskit-aer) (0.45.1)\n",
            "Requirement already satisfied: numpy>=1.16.3 in /usr/local/lib/python3.10/dist-packages (from qiskit-aer) (1.23.5)\n",
            "Requirement already satisfied: scipy>=1.0 in /usr/local/lib/python3.10/dist-packages (from qiskit-aer) (1.11.4)\n",
            "Requirement already satisfied: psutil>=5 in /usr/local/lib/python3.10/dist-packages (from qiskit-aer) (5.9.5)\n",
            "Requirement already satisfied: qiskit-terra==0.45.1 in /usr/local/lib/python3.10/dist-packages (from qiskit>=0.44.0->qiskit-aer) (0.45.1)\n",
            "Requirement already satisfied: rustworkx>=0.13.0 in /usr/local/lib/python3.10/dist-packages (from qiskit-terra==0.45.1->qiskit>=0.44.0->qiskit-aer) (0.13.2)\n",
            "Requirement already satisfied: ply>=3.10 in /usr/local/lib/python3.10/dist-packages (from qiskit-terra==0.45.1->qiskit>=0.44.0->qiskit-aer) (3.11)\n",
            "Requirement already satisfied: sympy>=1.3 in /usr/local/lib/python3.10/dist-packages (from qiskit-terra==0.45.1->qiskit>=0.44.0->qiskit-aer) (1.12)\n",
            "Requirement already satisfied: dill>=0.3 in /usr/local/lib/python3.10/dist-packages (from qiskit-terra==0.45.1->qiskit>=0.44.0->qiskit-aer) (0.3.7)\n",
            "Requirement already satisfied: python-dateutil>=2.8.0 in /usr/local/lib/python3.10/dist-packages (from qiskit-terra==0.45.1->qiskit>=0.44.0->qiskit-aer) (2.8.2)\n",
            "Requirement already satisfied: stevedore>=3.0.0 in /usr/local/lib/python3.10/dist-packages (from qiskit-terra==0.45.1->qiskit>=0.44.0->qiskit-aer) (5.1.0)\n",
            "Requirement already satisfied: symengine!=0.10.0,>=0.9 in /usr/local/lib/python3.10/dist-packages (from qiskit-terra==0.45.1->qiskit>=0.44.0->qiskit-aer) (0.11.0)\n",
            "Requirement already satisfied: typing-extensions in /usr/local/lib/python3.10/dist-packages (from qiskit-terra==0.45.1->qiskit>=0.44.0->qiskit-aer) (4.5.0)\n",
            "Requirement already satisfied: six>=1.5 in /usr/local/lib/python3.10/dist-packages (from python-dateutil>=2.8.0->qiskit-terra==0.45.1->qiskit>=0.44.0->qiskit-aer) (1.16.0)\n",
            "Requirement already satisfied: pbr!=2.1.0,>=2.0.0 in /usr/local/lib/python3.10/dist-packages (from stevedore>=3.0.0->qiskit-terra==0.45.1->qiskit>=0.44.0->qiskit-aer) (6.0.0)\n",
            "Requirement already satisfied: mpmath>=0.19 in /usr/local/lib/python3.10/dist-packages (from sympy>=1.3->qiskit-terra==0.45.1->qiskit>=0.44.0->qiskit-aer) (1.3.0)\n"
          ]
        }
      ]
    },
    {
      "cell_type": "code",
      "source": [
        "# simulate\n",
        "aer_sim = Aer.get_backend('aer_simulator')\n",
        "t_qc = transpile(qc, aer_sim)\n",
        "obj = assemble(t_qc)\n",
        "results = aer_sim.run(obj, shots=1024).result()\n",
        "counts = results.get_counts()\n",
        "print(counts)\n",
        "plot_histogram(counts, title='N = {0} a = {1}'.format(N, a), figsize=(6,8))\n",
        "plt.savefig('hist_{0}.jpg'.format(a))\n",
        "plt.show()"
      ],
      "metadata": {
        "colab": {
          "base_uri": "https://localhost:8080/",
          "height": 106
        },
        "id": "JCQjNZVSTvBH",
        "outputId": "ac0bfa48-dba4-4fc7-fed2-ec38d51c91e7"
      },
      "execution_count": 79,
      "outputs": [
        {
          "output_type": "stream",
          "name": "stdout",
          "text": [
            "{'000000000': 248, '110000000': 256, '010000000': 272, '100000000': 248}\n"
          ]
        },
        {
          "output_type": "stream",
          "name": "stderr",
          "text": [
            "<ipython-input-79-e5773dc10f86>:5: DeprecationWarning: Using a qobj for run() is deprecated as of qiskit-aer 0.9.0 and will be removed no sooner than 3 months from that release date. Transpiled circuits should now be passed directly using `backend.run(circuits, **run_options).\n",
            "  results = aer_sim.run(obj, shots=1024).result()\n"
          ]
        },
        {
          "output_type": "display_data",
          "data": {
            "text/plain": [
              "<Figure size 640x480 with 0 Axes>"
            ]
          },
          "metadata": {}
        }
      ]
    },
    {
      "cell_type": "code",
      "source": [
        "!pip install contfrac"
      ],
      "metadata": {
        "colab": {
          "base_uri": "https://localhost:8080/"
        },
        "id": "vfWYwdjbWyFT",
        "outputId": "f2104851-34e7-4479-f6f9-33fef0890e06"
      },
      "execution_count": 80,
      "outputs": [
        {
          "output_type": "stream",
          "name": "stdout",
          "text": [
            "Requirement already satisfied: contfrac in /usr/local/lib/python3.10/dist-packages (1.0.0)\n"
          ]
        }
      ]
    },
    {
      "cell_type": "code",
      "source": [
        "# import packages\n",
        "import contfrac\n",
        "#\n",
        "phi = (385, 512) # phi3=[0.110000001]_2=0.751953125=385/512\n",
        "l_phi = '110000001' # GBA inserted\n",
        "coefficients = list(contfrac.continued_fraction(phi))\n",
        "convergents = list(contfrac.convergents(phi))\n",
        "#\n",
        "print(\"cont frac of phi:\",coefficients)\n",
        "print(\"convergents of phi:\", convergents)\n",
        "print(a)"
      ],
      "metadata": {
        "colab": {
          "base_uri": "https://localhost:8080/"
        },
        "id": "cJfbtNs-ZpVu",
        "outputId": "7ee8e11b-84e1-40c2-adc3-a504c3e16ee8"
      },
      "execution_count": 81,
      "outputs": [
        {
          "output_type": "stream",
          "name": "stdout",
          "text": [
            "cont frac of phi: [0, 1, 3, 31, 1, 3]\n",
            "convergents of phi: [(0, 1), (1, 1), (3, 4), (94, 125), (97, 129), (385, 512)]\n",
            "8\n"
          ]
        }
      ]
    },
    {
      "cell_type": "code",
      "source": [
        "# import basics\n",
        "import contfrac\n",
        "from numpy import gcd\n",
        "# construct decimal value of l_phi\n",
        "n=0\n",
        "l_tilde = 0\n",
        "for l in l_phi[::-1]:\n",
        "    n += 1\n",
        "    l_tilde = l_tilde + 2**(n-1) * int(l)\n",
        "print(\"l_measured   :\", l_phi, l_tilde)\n",
        "# construct decimal value of phi\n",
        "n=0\n",
        "phi_tilde = 0\n",
        "for l in l_phi:\n",
        "    n -= 1\n",
        "    phi_tilde = phi_tilde + 2**n * int(l)\n",
        "print(\"phi_phase_bin :\", \"0.\"+l_phi)\n",
        "print(\"phi_phase_dec:\", phi_tilde)\n",
        "# express phi_tilde as a fraction\n",
        "res = len(str(phi_tilde)) - 2 # subtract 2 for \"0.\"\n",
        "print(\"res:\", res)\n",
        "scale = 10**res # automated scale set by res\n",
        "num = int(phi_tilde*scale)\n",
        "den = int(scale)\n",
        "# in lowest terms\n",
        "c = gcd(num, den)\n",
        "num = int(num / c)\n",
        "den = int(den / c)\n",
        "phi = (num, den)\n",
        "print(\"phi:\", phi)\n",
        "# construct convergents for phi\n",
        "coefficients = list(contfrac.continued_fraction(phi))\n",
        "convergents = list(contfrac.convergents(phi))\n",
        "print(\"cont frac of phi:\",coefficients)\n",
        "print(\"convergents of phi:\", convergents)\n",
        "# check convergents for solution\n",
        "for conv in convergents:\n",
        "    r = conv[1]\n",
        "    test1 = r % 2 # 0 if r is even\n",
        "    test2 = (a**int(r/2)-1) % N # 0 if a^r/2 is a trivial root\n",
        "    test3 = (a**int(r/2)+1) % N # 0 if a^r/2 is a trivial root\n",
        "    test4 = a**r % N # 1 if r is a solution\n",
        "    print(test1, test2, test3, test4,\" conv:\", conv, r, a)\n",
        "    if (test1==0 and test2!=0 and test3!=0 and test4==1):\n",
        "    #if (test1==0 and test2==0 and test3!=0 and test4==1): # GBA modified\n",
        "        print(\"conv:\", conv, \"r =\", r, \": factors\")\n",
        "        print(\"factor1:\", gcd(a**int(r/2)-1, N))\n",
        "        print(\"factor2:\", gcd(a**int(r/2)+1, N))\n",
        "    else:\n",
        "        print(\"conv:\", conv, \"r =\", r, \": no factors found\")"
      ],
      "metadata": {
        "colab": {
          "base_uri": "https://localhost:8080/"
        },
        "id": "wGLxbfm3TvFZ",
        "outputId": "8ba0ce11-c112-41fe-8244-657751bfbbec"
      },
      "execution_count": 82,
      "outputs": [
        {
          "output_type": "stream",
          "name": "stdout",
          "text": [
            "l_measured   : 110000001 385\n",
            "phi_phase_bin : 0.110000001\n",
            "phi_phase_dec: 0.751953125\n",
            "res: 9\n",
            "phi: (385, 512)\n",
            "cont frac of phi: [0, 1, 3, 31, 1, 3]\n",
            "convergents of phi: [(0, 1), (1, 1), (3, 4), (94, 125), (97, 129), (385, 512)]\n",
            "1 0 2 8  conv: (0, 1) 1 8\n",
            "conv: (0, 1) r = 1 : no factors found\n",
            "1 0 2 8  conv: (1, 1) 1 8\n",
            "conv: (1, 1) r = 1 : no factors found\n",
            "0 3 5 1  conv: (3, 4) 4 8\n",
            "conv: (3, 4) r = 4 : factors\n",
            "factor1: 3\n",
            "factor2: 5\n",
            "1 3 5 8  conv: (94, 125) 125 8\n",
            "conv: (94, 125) r = 125 : no factors found\n",
            "1 0 2 8  conv: (97, 129) 129 8\n",
            "conv: (97, 129) r = 129 : no factors found\n",
            "0 0 2 1  conv: (385, 512) 512 8\n",
            "conv: (385, 512) r = 512 : no factors found\n"
          ]
        }
      ]
    },
    {
      "cell_type": "code",
      "source": [],
      "metadata": {
        "id": "d6M_tLMmW-i6"
      },
      "execution_count": 82,
      "outputs": []
    },
    {
      "cell_type": "code",
      "source": [],
      "metadata": {
        "id": "37OwecmzW-l7"
      },
      "execution_count": 82,
      "outputs": []
    },
    {
      "cell_type": "code",
      "source": [],
      "metadata": {
        "id": "c5iQo5DnW-oh"
      },
      "execution_count": 82,
      "outputs": []
    },
    {
      "cell_type": "code",
      "source": [],
      "metadata": {
        "id": "R3ex46HIW-rF"
      },
      "execution_count": 82,
      "outputs": []
    },
    {
      "cell_type": "code",
      "source": [],
      "metadata": {
        "id": "oLoGsLZzW-tS"
      },
      "execution_count": 82,
      "outputs": []
    },
    {
      "cell_type": "code",
      "source": [],
      "metadata": {
        "id": "GrfN_ij9W-vq"
      },
      "execution_count": 82,
      "outputs": []
    },
    {
      "cell_type": "code",
      "source": [],
      "metadata": {
        "id": "cb99K33gW-yD"
      },
      "execution_count": 82,
      "outputs": []
    },
    {
      "cell_type": "code",
      "source": [],
      "metadata": {
        "id": "oNMhc8LTW-0i"
      },
      "execution_count": 82,
      "outputs": []
    },
    {
      "cell_type": "code",
      "source": [],
      "metadata": {
        "id": "RpuahAg1TvHX"
      },
      "execution_count": 82,
      "outputs": []
    }
  ]
}